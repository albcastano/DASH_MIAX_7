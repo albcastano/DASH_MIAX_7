{
 "cells": [
  {
   "cell_type": "code",
   "execution_count": 1,
   "metadata": {},
   "outputs": [],
   "source": [
    "import pandas as pd\n",
    "import numpy as np\n",
    "import api_handler_visual"
   ]
  },
  {
   "cell_type": "code",
   "execution_count": 9,
   "metadata": {},
   "outputs": [],
   "source": [
    "data = api_handler_visual.APIBMEHandler(\"IBEX\")"
   ]
  },
  {
   "cell_type": "code",
   "execution_count": 10,
   "metadata": {},
   "outputs": [
    {
     "data": {
      "text/plain": [
       "2010-01-04    5.303580\n",
       "2010-01-05    5.362355\n",
       "2010-01-06    5.400610\n",
       "2010-01-07    5.376035\n",
       "2010-01-08    5.393771\n",
       "                ...   \n",
       "2021-10-28    3.231998\n",
       "2021-10-29    3.276500\n",
       "2021-11-01    3.343500\n",
       "2021-11-02    3.294500\n",
       "2021-11-03    3.310000\n",
       "Length: 3030, dtype: float64"
      ]
     },
     "execution_count": 10,
     "metadata": {},
     "output_type": "execute_result"
    }
   ],
   "source": [
    "data.get_close_data_ticker(\"SAN\")"
   ]
  },
  {
   "cell_type": "code",
   "execution_count": 14,
   "metadata": {},
   "outputs": [
    {
     "data": {
      "text/plain": [
       "0         ABE\n",
       "1         ABG\n",
       "2     ABG.P_0\n",
       "3     ABG.P_1\n",
       "4         ACS\n",
       "       ...   \n",
       "59        TEF\n",
       "60        TL5\n",
       "61        TRE\n",
       "62        VIS\n",
       "63      VIS_0\n",
       "Name: ticker, Length: 64, dtype: object"
      ]
     },
     "execution_count": 14,
     "metadata": {},
     "output_type": "execute_result"
    }
   ],
   "source": [
    "data.get_ticker_master().ticker"
   ]
  }
 ],
 "metadata": {
  "kernelspec": {
   "display_name": "Python 3",
   "language": "python",
   "name": "python3"
  },
  "language_info": {
   "codemirror_mode": {
    "name": "ipython",
    "version": 3
   },
   "file_extension": ".py",
   "mimetype": "text/x-python",
   "name": "python",
   "nbconvert_exporter": "python",
   "pygments_lexer": "ipython3",
   "version": "3.8.5"
  }
 },
 "nbformat": 4,
 "nbformat_minor": 4
}
